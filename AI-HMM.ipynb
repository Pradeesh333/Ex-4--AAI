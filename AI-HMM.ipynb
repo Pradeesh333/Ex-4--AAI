{
 "cells": [
  {
   "cell_type": "code",
   "execution_count": 3,
   "id": "27e580fa",
   "metadata": {},
   "outputs": [],
   "source": [
    "import numpy as np\n"
   ]
  },
  {
   "cell_type": "code",
   "execution_count": 8,
   "id": "fcb6890e",
   "metadata": {},
   "outputs": [],
   "source": [
    "transition_matrix = np.array([[0.7, 0.3],[0.4, 0.6]])\n",
    "emission_matrix = np.array([[0.1, 0.9],[0.8,0.2]])\n",
    "initial_prob = np.array([0.5, 0.5])\n",
    "obs_seq = np.array([1,1,1,0,0,1])"
   ]
  },
  {
   "cell_type": "code",
   "execution_count": 9,
   "id": "4b8aba9d",
   "metadata": {},
   "outputs": [],
   "source": [
    "alpha = np.zeros((len(obs_seq),len(initial_prob)))\n",
    "alpha[0, :] = initial_prob * emission_matrix[:, obs_seq[0]]"
   ]
  },
  {
   "cell_type": "code",
   "execution_count": 10,
   "id": "f6afe1dc",
   "metadata": {},
   "outputs": [],
   "source": [
    "for t in range(1, len(obs_seq)):\n",
    "    for j in range(len(initial_prob)):\n",
    "        \n",
    "        alpha[t, j] = emission_matrix[j, \n",
    "        obs_seq[t]]*np.sum(alpha[t-1,:] * \n",
    "        transition_matrix[:, j])"
   ]
  },
  {
   "cell_type": "code",
   "execution_count": 11,
   "id": "753a2bfc",
   "metadata": {},
   "outputs": [
    {
     "name": "stdout",
     "output_type": "stream",
     "text": [
      "The prob of observed seq is: 0.018906881625\n"
     ]
    }
   ],
   "source": [
    "probability = np.sum(alpha[-1, :])\n",
    "print(\"The prob of observed seq is:\", probability)"
   ]
  },
  {
   "cell_type": "code",
   "execution_count": 12,
   "id": "dc03134e",
   "metadata": {},
   "outputs": [],
   "source": [
    "most_likely = []\n",
    "for t in range(len(obs_seq)):\n",
    "    if alpha[t, 0] > alpha[t,1]:\n",
    "        most_likely.append(\"sunny\")\n",
    "    else:\n",
    "        most_likely.append(\"rainy\")"
   ]
  },
  {
   "cell_type": "code",
   "execution_count": 13,
   "id": "c63bfeb0",
   "metadata": {},
   "outputs": [
    {
     "name": "stdout",
     "output_type": "stream",
     "text": [
      "['sunny', 'sunny', 'sunny', 'rainy', 'rainy', 'sunny']\n"
     ]
    }
   ],
   "source": [
    "print(most_likely)"
   ]
  },
  {
   "cell_type": "code",
   "execution_count": null,
   "id": "34be9793",
   "metadata": {},
   "outputs": [],
   "source": []
  }
 ],
 "metadata": {
  "kernelspec": {
   "display_name": "Python 3 (ipykernel)",
   "language": "python",
   "name": "python3"
  },
  "language_info": {
   "codemirror_mode": {
    "name": "ipython",
    "version": 3
   },
   "file_extension": ".py",
   "mimetype": "text/x-python",
   "name": "python",
   "nbconvert_exporter": "python",
   "pygments_lexer": "ipython3",
   "version": "3.9.13"
  }
 },
 "nbformat": 4,
 "nbformat_minor": 5
}
